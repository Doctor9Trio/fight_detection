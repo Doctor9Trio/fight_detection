{
  "cells": [
    {
      "cell_type": "markdown",
      "metadata": {
        "id": "view-in-github",
        "colab_type": "text"
      },
      "source": [
        "<a href=\"https://colab.research.google.com/github/Doctor9Trio/fight_detection/blob/main/NFT_Assignment_ANN_Model.ipynb\" target=\"_parent\"><img src=\"https://colab.research.google.com/assets/colab-badge.svg\" alt=\"Open In Colab\"/></a>"
      ]
    },
    {
      "cell_type": "markdown",
      "source": [
        "\n",
        "#  `Video fight detection`\n"
      ],
      "metadata": {
        "id": "jaqvivZf0arN"
      }
    },
    {
      "cell_type": "code",
      "execution_count": 1,
      "metadata": {
        "id": "FtV-YKrQBCWI"
      },
      "outputs": [],
      "source": [
        "import os\n",
        "import cv2\n",
        "import numpy as np\n",
        "import torch\n",
        "import torch.nn as nn\n",
        "import torch.optim as optim\n",
        "from torch.utils.data import DataLoader, random_split\n",
        "from torchvision import datasets, transforms"
      ]
    },
    {
      "cell_type": "code",
      "source": [
        "!git clone https://github.com/Doctor9Trio/ANN_Fight_detection.git"
      ],
      "metadata": {
        "colab": {
          "base_uri": "https://localhost:8080/"
        },
        "id": "EFnLjh4C_k1b",
        "outputId": "1ed206b4-c94e-4439-9904-e66b6616119e"
      },
      "execution_count": 2,
      "outputs": [
        {
          "output_type": "stream",
          "name": "stdout",
          "text": [
            "Cloning into 'ANN_Fight_detection'...\n",
            "remote: Enumerating objects: 11, done.\u001b[K\n",
            "remote: Counting objects: 100% (11/11), done.\u001b[K\n",
            "remote: Compressing objects: 100% (11/11), done.\u001b[K\n",
            "remote: Total 11 (delta 1), reused 10 (delta 0), pack-reused 0\u001b[K\n",
            "Receiving objects: 100% (11/11), 1.62 MiB | 12.49 MiB/s, done.\n",
            "Resolving deltas: 100% (1/1), done.\n"
          ]
        }
      ]
    },
    {
      "cell_type": "code",
      "source": [
        "vid1='/content/ANN_Fight_detection/no_fight/nofight.avi'\n",
        "vid2='/content/ANN_Fight_detection/fight/Fight.avi'"
      ],
      "metadata": {
        "id": "aCmXq8CKGtiz"
      },
      "execution_count": 4,
      "outputs": []
    },
    {
      "cell_type": "code",
      "execution_count": 5,
      "metadata": {
        "id": "y217rjrVCVcg"
      },
      "outputs": [],
      "source": [
        "classes=[\"NoFight\", \"Fight\" ]"
      ]
    },
    {
      "cell_type": "code",
      "execution_count": 6,
      "metadata": {
        "colab": {
          "base_uri": "https://localhost:8080/"
        },
        "id": "wV7qcyRqEqt4",
        "outputId": "7683b487-d27e-4a40-b1dc-0de843497075"
      },
      "outputs": [
        {
          "output_type": "stream",
          "name": "stdout",
          "text": [
            "Creating..../data1/frame0.jpg\n",
            "Creating..../data1/frame1.jpg\n",
            "Creating..../data1/frame2.jpg\n",
            "Creating..../data1/frame3.jpg\n",
            "Creating..../data1/frame4.jpg\n"
          ]
        }
      ],
      "source": [
        "cam = cv2.VideoCapture(vid1)\n",
        "\n",
        "try:\n",
        "\n",
        "  # creating a folder named data\n",
        "  if not os.path.exists('data1'):\n",
        "    os.makedirs('data1')\n",
        "\n",
        "# if not created then raise error\n",
        "except OSError:\n",
        "  print ('Error: Creating directory of data')\n",
        "\n",
        "# frame\n",
        "currentframe = 0\n",
        "\n",
        "while(currentframe < 5):\n",
        "\n",
        "  # reading from frame\n",
        "  ret,frame = cam.read()\n",
        "\n",
        "  if ret:\n",
        "    # if video is still left continue creating images\n",
        "    name = './data1/frame' + str(currentframe) + '.jpg'\n",
        "    print ('Creating...' + name)\n",
        "\n",
        "    # writing the extracted images\n",
        "    cv2.imwrite(name, frame)\n",
        "\n",
        "    # increasing counter so that it will\n",
        "    # show how many frames are created\n",
        "    currentframe += 1\n",
        "  else:\n",
        "    break\n",
        "\n",
        "# Release all space and windows once done\n",
        "cam.release()\n",
        "cv2.destroyAllWindows()"
      ]
    },
    {
      "cell_type": "code",
      "execution_count": 7,
      "metadata": {
        "id": "UAgSLc-4GFhN",
        "outputId": "302eaca2-5627-4359-f0bb-1decdf7df6d5",
        "colab": {
          "base_uri": "https://localhost:8080/"
        }
      },
      "outputs": [
        {
          "output_type": "stream",
          "name": "stdout",
          "text": [
            "Creating..../data1/frame5.jpg\n",
            "Creating..../data1/frame6.jpg\n",
            "Creating..../data1/frame7.jpg\n",
            "Creating..../data1/frame8.jpg\n",
            "Creating..../data1/frame9.jpg\n"
          ]
        }
      ],
      "source": [
        "cam = cv2.VideoCapture(vid2)\n",
        "\n",
        "try:\n",
        "\n",
        "  # creating a folder named data\n",
        "  if not os.path.exists('data1'):\n",
        "    os.makedirs('data1')\n",
        "\n",
        "# if not created then raise error\n",
        "except OSError:\n",
        "  print ('Error: Creating directory of data')\n",
        "\n",
        "# frame\n",
        "currentframe = 0\n",
        "\n",
        "while(currentframe < 5):\n",
        "\n",
        "  # reading from frame\n",
        "  ret,frame = cam.read()\n",
        "\n",
        "  if ret:\n",
        "    # if video is still left continue creating images\n",
        "    name = './data1/frame' + str(currentframe+5) + '.jpg'\n",
        "    print ('Creating...' + name)\n",
        "\n",
        "    # writing the extracted images\n",
        "    cv2.imwrite(name, frame)\n",
        "\n",
        "    # increasing counter so that it will\n",
        "    # show how many frames are created\n",
        "    currentframe += 1\n",
        "  else:\n",
        "    break\n",
        "\n",
        "# Release all space and windows once done\n",
        "cam.release()\n",
        "cv2.destroyAllWindows()"
      ]
    },
    {
      "cell_type": "code",
      "execution_count": 8,
      "metadata": {
        "id": "KkkNGzWGJhM7",
        "outputId": "6a9bff8a-19e8-4b6f-d752-fd384302f97a",
        "colab": {
          "base_uri": "https://localhost:8080/",
          "height": 274
        }
      },
      "outputs": [
        {
          "output_type": "display_data",
          "data": {
            "text/plain": [
              "<PIL.Image.Image image mode=RGB size=320x240>"
            ],
            "image/png": "[encoded data removed]"
          },
          "metadata": {}
        },
        {
          "output_type": "stream",
          "name": "stdout",
          "text": [
            "240 320\n"
          ]
        }
      ],
      "source": [
        "img = cv2.imread('/content/data1/frame5.jpg')\n",
        "from google.colab.patches import cv2_imshow\n",
        "cv2_imshow(img)\n",
        "# get width and height\n",
        "print(img.shape[0],img.shape[1])"
      ]
    },
    {
      "cell_type": "code",
      "execution_count": 9,
      "metadata": {
        "id": "q4t3K59pY-uf"
      },
      "outputs": [],
      "source": [
        "# Step 1: Load and preprocess images from a folder\n",
        "def load_images_from_folder(folder):\n",
        "    images = []\n",
        "\n",
        "    for filename in os.listdir(folder):\n",
        "        img_path = os.path.join(folder, filename)\n",
        "        if os.path.isfile(img_path):\n",
        "            img = cv2.imread(img_path)\n",
        "            img = cv2.resize(img, (224, 224))  # Resize the image to 224x224 pixels\n",
        "            print(img.shape)\n",
        "            images.append(img)\n",
        "            # Assuming that images of one class are in one folder and the other class in another folder\n",
        "    return images"
      ]
    },
    {
      "cell_type": "code",
      "execution_count": 10,
      "metadata": {
        "id": "wqtYbCgLWcmv"
      },
      "outputs": [],
      "source": [
        "# Define a simple perceptron class\n",
        "class Perceptron:\n",
        "    def __init__(self, input_size):\n",
        "        # Initialize weights and bias to zero\n",
        "        self.weights = np.zeros(input_size)\n",
        "        self.bias = 0\n",
        "\n",
        "    def predict(self, x):\n",
        "        # Compute the dot product of input and weights, add bias, and apply a step function\n",
        "        z = np.dot(x, self.weights) + self.bias\n",
        "        return 1 if z > 0 else 0\n",
        "\n",
        "    def train(self, X, y, learning_rate=0.05, epochs=100):\n",
        "        for _ in range(epochs):\n",
        "            for i in range(len(X)):\n",
        "                prediction = self.predict(X[i])\n",
        "                error = y[i] - prediction\n",
        "\n",
        "                # Update weights and bias\n",
        "                self.weights += learning_rate * error * X[i]\n",
        "                self.bias += learning_rate * error"
      ]
    },
    {
      "cell_type": "code",
      "execution_count": 11,
      "metadata": {
        "id": "Bm7EtZa-ZfKj",
        "outputId": "73bf7a1a-d0b4-4bd5-af79-fe124359f18c",
        "colab": {
          "base_uri": "https://localhost:8080/"
        }
      },
      "outputs": [
        {
          "output_type": "stream",
          "name": "stdout",
          "text": [
            "(224, 224, 3)\n",
            "(224, 224, 3)\n",
            "(224, 224, 3)\n",
            "(224, 224, 3)\n",
            "(224, 224, 3)\n",
            "(224, 224, 3)\n",
            "(224, 224, 3)\n",
            "(224, 224, 3)\n",
            "(224, 224, 3)\n",
            "(224, 224, 3)\n"
          ]
        }
      ],
      "source": [
        "# Sample data: You'll need to load your image data and preprocess it\n",
        "# Here, X represents the flattened image features, and y represents the labels (0 or 1)\n",
        "path1='/content/data1'\n",
        "images= load_images_from_folder(path1)\n",
        "\n",
        "# Step 2: Flatten the image data\n",
        "X = np.array([img.flatten() for img in images])\n",
        "y = np.array([0, 0, 0, 0, 0,1, 1, 1, 1, 1])  # Example labels\n",
        "\n",
        "# Create and train the perceptron\n",
        "perceptron = Perceptron(X.shape[1])\n",
        "perceptron.train(X, y)"
      ]
    },
    {
      "cell_type": "code",
      "execution_count": 12,
      "metadata": {
        "colab": {
          "base_uri": "https://localhost:8080/"
        },
        "id": "CjBXN0CKrDdP",
        "outputId": "b80c7167-7743-46bc-ffa3-f31e454a9119"
      },
      "outputs": [
        {
          "output_type": "stream",
          "name": "stdout",
          "text": [
            "150528\n"
          ]
        }
      ],
      "source": [
        "print(X.shape[1])"
      ]
    },
    {
      "cell_type": "code",
      "execution_count": 13,
      "metadata": {
        "id": "fOKLWHzvZzgT"
      },
      "outputs": [],
      "source": [
        "path3='/content/ANN_Fight_detection/no_fight/v_kiii_g02_c03.avi'\n",
        "path4='/content/ANN_Fight_detection/fight/test_fight.avi'"
      ]
    },
    {
      "cell_type": "code",
      "execution_count": 14,
      "metadata": {
        "colab": {
          "base_uri": "https://localhost:8080/"
        },
        "id": "n_a4AsJcaWCo",
        "outputId": "1dcca6d7-6907-41da-9bce-72e985a51703"
      },
      "outputs": [
        {
          "output_type": "stream",
          "name": "stdout",
          "text": [
            "Creating..../datatest/frame0.jpg\n",
            "Creating..../datatest/frame1.jpg\n",
            "Creating..../datatest/frame2.jpg\n",
            "Creating..../datatest/frame3.jpg\n",
            "Creating..../datatest/frame4.jpg\n"
          ]
        }
      ],
      "source": [
        "cam = cv2.VideoCapture(path3)\n",
        "\n",
        "try:\n",
        "\n",
        "  # creating a folder named data\n",
        "  if not os.path.exists('datatest'):\n",
        "    os.makedirs('datatest')\n",
        "\n",
        "# if not created then raise error\n",
        "except OSError:\n",
        "  print ('Error: Creating directory of data')\n",
        "\n",
        "# frame\n",
        "currentframe = 0\n",
        "\n",
        "while(currentframe < 5):\n",
        "\n",
        "  # reading from frame\n",
        "  ret,frame = cam.read()\n",
        "\n",
        "  if ret:\n",
        "    # if video is still left continue creating images\n",
        "    name = './datatest/frame' + str(currentframe) + '.jpg'\n",
        "    print ('Creating...' + name)\n",
        "\n",
        "    # writing the extracted images\n",
        "    cv2.imwrite(name, frame)\n",
        "\n",
        "    # increasing counter so that it will\n",
        "    # show how many frames are created\n",
        "    currentframe += 1\n",
        "  else:\n",
        "    break\n",
        "\n",
        "# Release all space and windows once done\n",
        "cam.release()\n",
        "cv2.destroyAllWindows()"
      ]
    },
    {
      "cell_type": "code",
      "execution_count": 15,
      "metadata": {
        "colab": {
          "base_uri": "https://localhost:8080/"
        },
        "id": "IfJ1JkRMajOn",
        "outputId": "c43bed2b-e362-4e6b-af88-ba8e31166c7d"
      },
      "outputs": [
        {
          "output_type": "stream",
          "name": "stdout",
          "text": [
            "Creating..../datatest/frame5.jpg\n",
            "Creating..../datatest/frame6.jpg\n",
            "Creating..../datatest/frame7.jpg\n",
            "Creating..../datatest/frame8.jpg\n",
            "Creating..../datatest/frame9.jpg\n"
          ]
        }
      ],
      "source": [
        "cam = cv2.VideoCapture(path4)\n",
        "\n",
        "try:\n",
        "\n",
        "  # creating a folder named data\n",
        "  if not os.path.exists('datatest'):\n",
        "    os.makedirs('datatest')\n",
        "\n",
        "# if not created then raise error\n",
        "except OSError:\n",
        "  print ('Error: Creating directory of data')\n",
        "\n",
        "# frame\n",
        "currentframe = 0\n",
        "\n",
        "while(currentframe < 5):\n",
        "\n",
        "  # reading from frame\n",
        "  ret,frame = cam.read()\n",
        "\n",
        "  if ret:\n",
        "    # if video is still left continue creating images\n",
        "    name = './datatest/frame' + str(currentframe+5) + '.jpg'\n",
        "    print ('Creating...' + name)\n",
        "\n",
        "    # writing the extracted images\n",
        "    cv2.imwrite(name, frame)\n",
        "\n",
        "    # increasing counter so that it will\n",
        "    # show how many frames are created\n",
        "    currentframe += 1\n",
        "  else:\n",
        "    break\n",
        "\n",
        "# Release all space and windows once done\n",
        "cam.release()\n",
        "cv2.destroyAllWindows()"
      ]
    },
    {
      "cell_type": "code",
      "execution_count": 16,
      "metadata": {
        "colab": {
          "base_uri": "https://localhost:8080/"
        },
        "id": "EubbRp0yZnbL",
        "outputId": "5761eed9-ffb8-42b1-8c01-16a1b6676770"
      },
      "outputs": [
        {
          "output_type": "stream",
          "name": "stdout",
          "text": [
            "(224, 224, 3)\n",
            "(224, 224, 3)\n",
            "(224, 224, 3)\n",
            "(224, 224, 3)\n",
            "(224, 224, 3)\n",
            "(224, 224, 3)\n",
            "(224, 224, 3)\n",
            "(224, 224, 3)\n",
            "(224, 224, 3)\n",
            "(224, 224, 3)\n",
            "Predictions: [0, 0, 0, 0, 0, 0, 0, 0, 0, 0]\n"
          ]
        }
      ],
      "source": [
        "# Make predictions on new data (replace this with your own image data)\n",
        "path='/content/datatest'\n",
        "image= load_images_from_folder(path)\n",
        "new_data= np.array([img.flatten() for img in image])\n",
        "out= np.array([0, 0, 0, 0, 0,1, 1, 1, 1, 1])\n",
        "#new_data=X\n",
        "predictions = [perceptron.predict(x) for x in new_data]\n",
        "\n",
        "# Print the predictions\n",
        "print(\"Predictions:\", predictions)"
      ]
    },
    {
      "cell_type": "code",
      "execution_count": 17,
      "metadata": {
        "colab": {
          "base_uri": "https://localhost:8080/"
        },
        "id": "YYhwvnZCtw3F",
        "outputId": "4b2d217b-4fd6-4a7b-bd62-e232da040856"
      },
      "outputs": [
        {
          "output_type": "stream",
          "name": "stdout",
          "text": [
            "50\n"
          ]
        }
      ],
      "source": [
        "acc=0\n",
        "for i in range(10):\n",
        "  if(predictions[i]==out[i]):\n",
        "    acc=acc+1\n",
        "print(acc*10)"
      ]
    }
  ],
  "metadata": {
    "colab": {
      "provenance": [],
      "include_colab_link": true
    },
    "kernelspec": {
      "display_name": "Python 3",
      "name": "python3"
    },
    "language_info": {
      "name": "python"
    }
  },
  "nbformat": 4,
  "nbformat_minor": 0
}